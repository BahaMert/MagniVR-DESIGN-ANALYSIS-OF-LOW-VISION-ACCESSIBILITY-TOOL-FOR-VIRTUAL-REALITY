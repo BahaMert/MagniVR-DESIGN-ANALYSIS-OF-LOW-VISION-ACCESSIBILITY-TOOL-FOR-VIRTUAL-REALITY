{
 "cells": [
  {
   "cell_type": "code",
   "execution_count": 6,
   "metadata": {},
   "outputs": [
    {
     "data": {
      "text/plain": [
       "<_io.BufferedRandom name='f11.mp3'>"
      ]
     },
     "execution_count": 6,
     "metadata": {},
     "output_type": "execute_result"
    }
   ],
   "source": [
    "# combine 2 audio files\n",
    "from pydub import AudioSegment\n",
    "\n",
    "name = \"f11.mp3\"\n",
    "# Load audio files\n",
    "audio1 = AudioSegment.from_mp3(name)\n",
    "silence = AudioSegment.silent(duration=1000)  # duration in milliseconds\n",
    "\n",
    "output = silence + audio1\n",
    "\n",
    "# Export the result\n",
    "output.export(name, format=\"mp3\")\n"
   ]
  }
 ],
 "metadata": {
  "kernelspec": {
   "display_name": "Python 3",
   "language": "python",
   "name": "python3"
  },
  "language_info": {
   "codemirror_mode": {
    "name": "ipython",
    "version": 3
   },
   "file_extension": ".py",
   "mimetype": "text/x-python",
   "name": "python",
   "nbconvert_exporter": "python",
   "pygments_lexer": "ipython3",
   "version": "3.10.11"
  },
  "orig_nbformat": 4
 },
 "nbformat": 4,
 "nbformat_minor": 2
}
